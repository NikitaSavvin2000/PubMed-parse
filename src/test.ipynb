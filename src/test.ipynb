{
 "cells": [
  {
   "cell_type": "code",
   "execution_count": 2,
   "metadata": {
    "collapsed": true
   },
   "outputs": [],
   "source": [
    "from utils.parse_xml import xml_parse\n",
    "\n",
    "\n",
    "path='/Users/nikitasavvin/Desktop/AIDAM/PubMed-parse/src/downloads_xml/PMC15027.xml'\n",
    "root = xml_parse(path)"
   ]
  },
  {
   "cell_type": "code",
   "execution_count": 9,
   "outputs": [
    {
     "name": "stdout",
     "output_type": "stream",
     "text": [
      "['article-id_pmc', 'article-id_pmid', 'article-id_publisher-id', 'fpage', 'issue', 'journal-title', 'lpage', 'name_0', 'name_1', 'name_2', 'name_3', 'name_4', 'name_5', 'section_type', 'type', 'volume', 'year', 'section_type', 'type', 'section_type', 'type', 'section_type', 'type', 'section_type', 'type', 'section_type', 'type', 'section_type', 'type', 'section_type', 'type', 'section_type', 'type', 'section_type', 'type', 'section_type', 'type', 'section_type', 'type', 'section_type', 'type', 'section_type', 'type', 'section_type', 'type', 'file', 'id', 'section_type', 'type', 'section_type', 'type', 'section_type', 'type', 'file', 'id', 'section_type', 'type', 'file', 'id', 'section_type', 'type', 'xml', 'file', 'id', 'section_type', 'type', 'section_type', 'type', 'section_type', 'type', 'section_type', 'type', 'section_type', 'type', 'section_type', 'type', 'section_type', 'type', 'section_type', 'type', 'section_type', 'type', 'section_type', 'type', 'file', 'id', 'section_type', 'type', 'file', 'id', 'section_type', 'type', 'xml', 'file', 'id', 'section_type', 'type', 'section_type', 'type', 'section_type', 'type', 'section_type', 'type', 'file', 'id', 'section_type', 'type', 'file', 'id', 'section_type', 'type', 'file', 'id', 'section_type', 'type', 'xml', 'section_type', 'type', 'file', 'id', 'section_type', 'type', 'file', 'id', 'section_type', 'type', 'file', 'id', 'section_type', 'type', 'xml', 'file', 'id', 'section_type', 'type', 'section_type', 'type', 'file', 'id', 'section_type', 'type', 'file', 'id', 'section_type', 'type', 'xml', 'section_type', 'type', 'section_type', 'type', 'section_type', 'type', 'section_type', 'type', 'section_type', 'type', 'file', 'id', 'section_type', 'type', 'file', 'id', 'section_type', 'type', 'file', 'id', 'section_type', 'type', 'xml', 'file', 'id', 'section_type', 'type', 'section_type', 'type', 'section_type', 'type', 'section_type', 'type', 'section_type', 'type', 'section_type', 'type', 'file', 'id', 'section_type', 'type', 'file', 'id', 'section_type', 'type', 'xml', 'file', 'id', 'section_type', 'type', 'section_type', 'type', 'section_type', 'type', 'section_type', 'type', 'section_type', 'type', 'file', 'id', 'section_type', 'type', 'file', 'id', 'section_type', 'type', 'xml', 'file', 'id', 'section_type', 'type', 'section_type', 'type', 'section_type', 'type', 'section_type', 'type', 'section_type', 'type', 'section_type', 'type', 'section_type', 'type', 'section_type', 'type', 'section_type', 'type', 'section_type', 'type', 'section_type', 'type', 'section_type', 'type', 'section_type', 'type', 'section_type', 'type', 'section_type', 'type', 'section_type', 'type', 'section_type', 'type', 'section_type', 'type', 'section_type', 'type', 'section_type', 'type', 'section_type', 'type', 'fpage', 'lpage', 'name_0', 'pub-id_pmid', 'section_type', 'source', 'type', 'volume', 'year', 'fpage', 'lpage', 'name_0', 'name_1', 'name_2', 'name_3', 'name_4', 'name_5', 'pub-id_pmid', 'section_type', 'source', 'type', 'volume', 'year', 'fpage', 'lpage', 'name_0', 'name_1', 'pub-id_pmid', 'section_type', 'source', 'type', 'volume', 'year', 'fpage', 'lpage', 'name_0', 'name_1', 'name_10', 'name_2', 'name_3', 'name_4', 'name_5', 'name_6', 'name_7', 'name_8', 'name_9', 'pub-id_pmid', 'section_type', 'source', 'type', 'volume', 'year', 'fpage', 'lpage', 'name_0', 'name_1', 'pub-id_pmid', 'section_type', 'source', 'type', 'volume', 'year', 'fpage', 'lpage', 'name_0', 'name_1', 'name_2', 'pub-id_pmid', 'section_type', 'source', 'type', 'volume', 'year', 'fpage', 'lpage', 'name_0', 'name_1', 'pub-id_pmid', 'section_type', 'source', 'type', 'volume', 'year', 'fpage', 'lpage', 'name_0', 'name_1', 'section_type', 'source', 'type', 'volume', 'year', 'fpage', 'lpage', 'name_0', 'name_1', 'pub-id_pmid', 'section_type', 'source', 'type', 'volume', 'year', 'fpage', 'lpage', 'name_0', 'name_1', 'name_2', 'name_3', 'name_4', 'name_5', 'name_6', 'name_7', 'name_8', 'pub-id_pmid', 'section_type', 'source', 'type', 'volume', 'year', 'fpage', 'lpage', 'name_0', 'name_1', 'name_2', 'name_3', 'name_4', 'pub-id_pmid', 'section_type', 'source', 'type', 'volume', 'year', 'fpage', 'lpage', 'name_0', 'name_1', 'name_2', 'pub-id_pmid', 'section_type', 'source', 'type', 'volume', 'year', 'fpage', 'lpage', 'name_0', 'pub-id_pmid', 'section_type', 'source', 'type', 'volume', 'year', 'fpage', 'lpage', 'name_0', 'pub-id_pmid', 'section_type', 'source', 'type', 'volume', 'year', 'fpage', 'lpage', 'name_0', 'name_1', 'name_2', 'name_3', 'pub-id_pmid', 'section_type', 'source', 'type', 'volume', 'year', 'section_type', 'type', 'fpage', 'lpage', 'name_0', 'name_1', 'name_2', 'name_3', 'name_4', 'name_5', 'name_6', 'name_7', 'name_8', 'name_9', 'pub-id_pmid', 'section_type', 'source', 'type', 'volume', 'year', 'name_0', 'name_1', 'name_2', 'name_3', 'section_type', 'source', 'type', 'year', 'fpage', 'lpage', 'name_0', 'name_1', 'name_2', 'name_3', 'name_4', 'name_5', 'name_6', 'pub-id_pmid', 'section_type', 'source', 'type', 'volume', 'year', 'fpage', 'lpage', 'name_0', 'name_1', 'pub-id_pmid', 'section_type', 'source', 'type', 'volume', 'year', 'fpage', 'lpage', 'name_0', 'name_1', 'pub-id_pmid', 'section_type', 'source', 'type', 'volume', 'year', 'fpage', 'lpage', 'name_0', 'name_1', 'name_2', 'name_3', 'name_4', 'name_5', 'pub-id_pmid', 'section_type', 'source', 'type', 'volume', 'year', 'fpage', 'lpage', 'name_0', 'name_1', 'name_2', 'name_3', 'pub-id_pmid', 'section_type', 'source', 'type', 'volume', 'year', 'fpage', 'lpage', 'name_0', 'name_1', 'pub-id_pmid', 'section_type', 'source', 'type', 'volume', 'year', 'fpage', 'lpage', 'name_0', 'name_1', 'name_2', 'pub-id_pmid', 'section_type', 'source', 'type', 'volume', 'year', 'fpage', 'lpage', 'name_0', 'name_1', 'pub-id_pmid', 'section_type', 'source', 'type', 'volume', 'year', 'fpage', 'lpage', 'name_0', 'pub-id_pmid', 'section_type', 'source', 'type', 'volume', 'year', 'fpage', 'lpage', 'name_0', 'name_1', 'pub-id_pmid', 'section_type', 'source', 'type', 'volume', 'year', 'fpage', 'lpage', 'name_0', 'name_1', 'pub-id_pmid', 'section_type', 'source', 'type', 'volume', 'year', 'fpage', 'lpage', 'name_0', 'name_1', 'name_2', 'name_3', 'pub-id_pmid', 'section_type', 'source', 'type', 'volume', 'year', 'fpage', 'lpage', 'name_0', 'name_1', 'name_2', 'pub-id_pmid', 'section_type', 'source', 'type', 'volume', 'year', 'fpage', 'lpage', 'name_0', 'name_1', 'pub-id_pmid', 'section_type', 'source', 'type', 'volume', 'year', 'fpage', 'lpage', 'name_0', 'name_1', 'name_2', 'name_3', 'pub-id_pmid', 'section_type', 'source', 'type', 'volume', 'year', 'fpage', 'lpage', 'name_0', 'name_1', 'name_2', 'pub-id_pmid', 'section_type', 'source', 'type', 'volume', 'year', 'fpage', 'lpage', 'name_0', 'name_1', 'name_2', 'pub-id_pmid', 'section_type', 'source', 'type', 'volume', 'year', 'fpage', 'lpage', 'name_0', 'name_1', 'name_2', 'name_3', 'name_4', 'pub-id_pmid', 'section_type', 'source', 'type', 'volume', 'year', 'fpage', 'lpage', 'name_0', 'name_1', 'pub-id_pmid', 'section_type', 'source', 'type', 'volume', 'year', 'fpage', 'lpage', 'name_0', 'name_1', 'name_2', 'name_3', 'name_4', 'pub-id_pmid', 'section_type', 'source', 'type', 'volume', 'year', 'fpage', 'lpage', 'name_0', 'name_1', 'name_2', 'pub-id_pmid', 'section_type', 'source', 'type', 'volume', 'year', 'fpage', 'lpage', 'name_0', 'name_1', 'name_2', 'name_3', 'pub-id_pmid', 'section_type', 'source', 'type', 'volume', 'year', 'fpage', 'lpage', 'name_0', 'name_1', 'name_2', 'name_3', 'name_4', 'name_5', 'pub-id_pmid', 'section_type', 'source', 'type', 'volume', 'year', 'fpage', 'lpage', 'name_0', 'name_1', 'name_2', 'name_3', 'name_4', 'name_5', 'name_6', 'pub-id_pmid', 'section_type', 'source', 'type', 'volume', 'year', 'fpage', 'lpage', 'name_0', 'name_1', 'pub-id_pmid', 'section_type', 'source', 'type', 'volume', 'year', 'section_type', 'type', 'name_0', 'name_1', 'section_type', 'source', 'type', 'year', 'fpage', 'lpage', 'name_0', 'name_1', 'pub-id_pmid', 'section_type', 'source', 'type', 'volume', 'year', 'fpage', 'lpage', 'name_0', 'name_1', 'pub-id_pmid', 'section_type', 'source', 'type', 'volume', 'year', 'fpage', 'lpage', 'name_0', 'pub-id_pmid', 'section_type', 'source', 'type', 'volume', 'year', 'fpage', 'lpage', 'name_0', 'name_1', 'name_2', 'name_3', 'pub-id_pmid', 'section_type', 'source', 'type', 'volume', 'year', 'fpage', 'lpage', 'name_0', 'name_1', 'pub-id_pmid', 'section_type', 'source', 'type', 'volume', 'year', 'fpage', 'lpage', 'name_0', 'name_1', 'pub-id_pmid', 'section_type', 'source', 'type', 'volume', 'year', 'fpage', 'name_0', 'section_type', 'source', 'type', 'volume', 'year', 'fpage', 'lpage', 'name_0', 'name_1', 'pub-id_pmid', 'section_type', 'source', 'type', 'volume', 'year', 'fpage', 'lpage', 'name_0', 'pub-id_pmid', 'section_type', 'source', 'type', 'volume', 'year', 'fpage', 'lpage', 'name_0', 'name_1', 'name_2', 'name_3', 'pub-id_pmid', 'section_type', 'source', 'type', 'volume', 'year', 'fpage', 'lpage', 'name_0', 'pub-id_pmid', 'section_type', 'source', 'type', 'volume', 'year', 'fpage', 'lpage', 'name_0', 'name_1', 'name_2', 'name_3', 'name_4', 'name_5', 'name_6', 'name_7', 'name_8', 'name_9', 'pub-id_pmid', 'section_type', 'source', 'type', 'volume', 'year']\n"
     ]
    }
   ],
   "source": [
    "passage_elements = root.findall('.//passage')\n",
    "\n",
    "# Создаем пустой список для хранения ключей\n",
    "keys = []\n",
    "\n",
    "# Проходим по каждому элементу <passage>\n",
    "for passage in passage_elements:\n",
    "    # Находим все элементы <infon> внутри текущего элемента <passage>\n",
    "    infon_elements = passage.findall('.//infon')\n",
    "    # Добавляем все ключи атрибутов в список keys\n",
    "    for infon in infon_elements:\n",
    "        keys.append(infon.attrib['key'])\n",
    "\n",
    "# Выводим список ключей\n",
    "print(keys)"
   ],
   "metadata": {
    "collapsed": false
   }
  },
  {
   "cell_type": "code",
   "execution_count": 6,
   "outputs": [],
   "source": [
    "document_element = root.find('document')\n",
    "passage = document_element.find('passage')\n",
    "text = passage.find('text')"
   ],
   "metadata": {
    "collapsed": false
   }
  },
  {
   "cell_type": "code",
   "execution_count": 8,
   "outputs": [
    {
     "data": {
      "text/plain": "[]"
     },
     "execution_count": 8,
     "metadata": {},
     "output_type": "execute_result"
    }
   ],
   "source": [
    "text."
   ],
   "metadata": {
    "collapsed": false
   }
  },
  {
   "cell_type": "code",
   "execution_count": null,
   "outputs": [],
   "source": [],
   "metadata": {
    "collapsed": false
   }
  },
  {
   "cell_type": "code",
   "execution_count": 5,
   "outputs": [
    {
     "name": "stdout",
     "output_type": "stream",
     "text": [
      "infon\n",
      "infon\n",
      "infon\n",
      "infon\n",
      "infon\n",
      "infon\n",
      "infon\n",
      "infon\n",
      "infon\n",
      "infon\n",
      "infon\n",
      "infon\n",
      "infon\n",
      "infon\n",
      "infon\n",
      "infon\n",
      "infon\n",
      "offset\n",
      "text\n"
     ]
    }
   ],
   "source": [
    "for child in passage:\n",
    "    print(child.tag)\n",
    "\n"
   ],
   "metadata": {
    "collapsed": false
   }
  },
  {
   "cell_type": "code",
   "execution_count": 17,
   "outputs": [],
   "source": [
    "document_element = root.find('source')\n"
   ],
   "metadata": {
    "collapsed": false
   }
  },
  {
   "cell_type": "code",
   "execution_count": 21,
   "outputs": [
    {
     "data": {
      "text/plain": "<Element 'source' at 0x1086ac040>"
     },
     "execution_count": 21,
     "metadata": {},
     "output_type": "execute_result"
    }
   ],
   "source": [
    "document_element"
   ],
   "metadata": {
    "collapsed": false
   }
  },
  {
   "cell_type": "code",
   "execution_count": 22,
   "outputs": [],
   "source": [
    "\n",
    "for child in document_element:\n",
    "    print(child.tag)"
   ],
   "metadata": {
    "collapsed": false
   }
  },
  {
   "cell_type": "code",
   "execution_count": 23,
   "outputs": [
    {
     "name": "stdout",
     "output_type": "stream",
     "text": [
      "{'id': '15027', 'passage': {'fpage': '754', 'lpage': '759', 'name_0': 'surname:Stephens;given-names:RS', 'name_1': 'surname:Kalman;given-names:S', 'name_2': 'surname:Lammel;given-names:C', 'name_3': 'surname:Fan;given-names:J', 'name_4': 'surname:Marathe;given-names:R', 'name_5': 'surname:Aravind;given-names:L', 'name_6': 'surname:Mitchell;given-names:W', 'name_7': 'surname:Olinger;given-names:L', 'name_8': 'surname:Tatusov;given-names:RL', 'name_9': 'surname:Zhao;given-names:Q', 'pub-id_pmid': '9784136', 'section_type': 'REF', 'source': 'Science', 'type': 'ref', 'volume': '282', 'year': '1998', 'text': 'Genome sequence of an obligate intracellular pathogen of humans: Chlamydia trachomatis.'}}\n"
     ]
    }
   ],
   "source": [
    "document_element = root.find('document')\n",
    "\n",
    "# Создаем пустой словарь для хранения данных\n",
    "data = {}\n",
    "\n",
    "# Если элемент найден, проходим по всем его дочерним элементам\n",
    "if document_element is not None:\n",
    "    for child in document_element:\n",
    "        # Если это тег 'id', сохраняем его текстовое содержимое в словарь\n",
    "        if child.tag == 'id':\n",
    "            data['id'] = child.text\n",
    "        # Если это тег 'passage', сохраняем его атрибуты и текстовое содержимое в словарь\n",
    "        elif child.tag == 'passage':\n",
    "            passage_info = {}\n",
    "            for infon in child.findall('infon'):\n",
    "                passage_info[infon.attrib['key']] = infon.text\n",
    "            passage_info['text'] = child.find('text').text\n",
    "            data[child.tag] = passage_info\n",
    "\n",
    "# Выводим полученные данные\n",
    "print(data)"
   ],
   "metadata": {
    "collapsed": false
   }
  },
  {
   "cell_type": "code",
   "execution_count": null,
   "outputs": [],
   "source": [],
   "metadata": {
    "collapsed": false
   }
  }
 ],
 "metadata": {
  "kernelspec": {
   "display_name": "Python 3",
   "language": "python",
   "name": "python3"
  },
  "language_info": {
   "codemirror_mode": {
    "name": "ipython",
    "version": 2
   },
   "file_extension": ".py",
   "mimetype": "text/x-python",
   "name": "python",
   "nbconvert_exporter": "python",
   "pygments_lexer": "ipython2",
   "version": "2.7.6"
  }
 },
 "nbformat": 4,
 "nbformat_minor": 0
}
