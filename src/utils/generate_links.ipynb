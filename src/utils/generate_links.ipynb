{
 "cells": [
  {
   "cell_type": "code",
   "execution_count": 1,
   "metadata": {
    "collapsed": true
   },
   "outputs": [],
   "source": [
    "import pandas as pd\n",
    "import os\n",
    "\n",
    "cur_path = os.path.abspath('tables')\n",
    "parent_directory = os.path.dirname(os.path.dirname(cur_path))\n",
    "\n",
    "df_all_links = pd.read_csv(f'{parent_directory}/tables/PubMed_links.csv')"
   ]
  },
  {
   "cell_type": "code",
   "execution_count": 2,
   "outputs": [],
   "source": [
    "main_link = 'https://ftp.ncbi.nlm.nih.gov/pub/wilbur/BioC-PMC/'\n",
    "\n",
    "df_all_links['link'] = df_all_links['Link'].apply(lambda link: main_link + link)\n",
    "df_all_links = df_all_links.drop(columns=['Link', 'Update date', 'Time', 'Main link', 'Size'])"
   ],
   "metadata": {
    "collapsed": false
   }
  },
  {
   "cell_type": "code",
   "execution_count": 3,
   "outputs": [],
   "source": [
    "json_df = df_all_links[df_all_links['link'].str.contains('json')]\n",
    "xml_df = df_all_links[df_all_links['link'].str.contains('xml')]\n",
    "\n",
    "json_df.to_csv(f'{parent_directory}/tables/json_links.csv')\n",
    "xml_df.to_csv(f'{parent_directory}/tables/xml_links.csv')"
   ],
   "metadata": {
    "collapsed": false
   }
  }
 ],
 "metadata": {
  "kernelspec": {
   "display_name": "Python 3",
   "language": "python",
   "name": "python3"
  },
  "language_info": {
   "codemirror_mode": {
    "name": "ipython",
    "version": 2
   },
   "file_extension": ".py",
   "mimetype": "text/x-python",
   "name": "python",
   "nbconvert_exporter": "python",
   "pygments_lexer": "ipython2",
   "version": "2.7.6"
  }
 },
 "nbformat": 4,
 "nbformat_minor": 0
}
